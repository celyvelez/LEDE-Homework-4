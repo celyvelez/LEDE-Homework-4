{
 "cells": [
  {
   "attachments": {},
   "cell_type": "markdown",
   "metadata": {},
   "source": [
    "# WeatherAPI (WeatherAPI, hiding API keys)\n",
    "\n",
    "Answer the following questions using [WeatherAPI](http://www.weatherapi.com/). It's a smaller assignment than the last weather one, and mostly serves to get you used to creating API urls and using `python-dotenv`.\n",
    "\n",
    "Hold `Shift` and hit `Enter` to run a cell, and use the `+` on the top left to add a new cell to a notebook. Be sure to take advantage of both the documentation and the API Explorer!\n",
    "\n",
    "## 0) Import any libraries you might need\n",
    "\n",
    "- *Tip: We're going to be downloading things from the internet, so we probably need `requests`.*\n",
    "- *Tip: Remember you only need to import requests once!*"
   ]
  },
  {
   "cell_type": "code",
   "execution_count": 11,
   "metadata": {},
   "outputs": [],
   "source": [
    "import requests"
   ]
  },
  {
   "cell_type": "code",
   "execution_count": 12,
   "metadata": {},
   "outputs": [],
   "source": [
    "import os"
   ]
  },
  {
   "cell_type": "code",
   "execution_count": 13,
   "metadata": {},
   "outputs": [
    {
     "data": {
      "text/plain": [
       "True"
      ]
     },
     "execution_count": 13,
     "metadata": {},
     "output_type": "execute_result"
    }
   ],
   "source": [
    "# from dotenv import find_dotenv\n",
    "\n",
    "# find_dotenv()\n",
    "\n",
    "from dotenv import load_dotenv\n",
    "\n",
    "load_dotenv()\n",
    "\n",
    "\n"
   ]
  },
  {
   "attachments": {},
   "cell_type": "markdown",
   "metadata": {},
   "source": [
    "## 1) Use the `python-dotenv` package to import your WeatherAPI API key\n",
    "\n",
    "We're going to be posting this code on GitHub, so you'll want to hide your API keys! Take a look at [this video](https://www.youtube.com/watch?v=YdgIWTYQ69A) about how to hide API keys from public view while still using them. It involves creating a separate `.env` file (use either VS Code or create it using Jupyter) that includes your API key, then importing it with [python-dotenv](https://github.com/theskumar/python-dotenv).\n",
    "\n",
    "Save this as a variable called `API_KEY`."
   ]
  },
  {
   "cell_type": "code",
   "execution_count": 15,
   "metadata": {
    "collapsed": true
   },
   "outputs": [],
   "source": [
    "API_KEY = os.getenv(\"API_KEYW\")\n"
   ]
  },
  {
   "attachments": {},
   "cell_type": "markdown",
   "metadata": {},
   "source": [
    "## 2) Print the URL for the current forecast in New York City\n",
    "\n",
    "This is really just a test to make sure you can still create a URL when the API key is read in as a variable."
   ]
  },
  {
   "cell_type": "code",
   "execution_count": 17,
   "metadata": {},
   "outputs": [],
   "source": [
    "url_base = f\"https://api.weatherapi.com/v1/current.json?key={API_KEY}\""
   ]
  },
  {
   "cell_type": "code",
   "execution_count": 19,
   "metadata": {},
   "outputs": [
    {
     "data": {
      "text/plain": [
       "<Response [200]>"
      ]
     },
     "execution_count": 19,
     "metadata": {},
     "output_type": "execute_result"
    }
   ],
   "source": [
    "url1 = url_base + \"&q=new%20york\"\n",
    "response1 = requests.get(url1)\n",
    "response1"
   ]
  },
  {
   "cell_type": "code",
   "execution_count": 20,
   "metadata": {},
   "outputs": [
    {
     "data": {
      "text/plain": [
       "dict_keys(['location', 'current'])"
      ]
     },
     "execution_count": 20,
     "metadata": {},
     "output_type": "execute_result"
    }
   ],
   "source": [
    "data1 = response1.json()\n",
    "data1.keys()"
   ]
  },
  {
   "attachments": {},
   "cell_type": "markdown",
   "metadata": {
    "collapsed": true
   },
   "source": [
    "## 2) Compare the air quality for NYC and Toronto, Canada\n",
    "\n",
    "Using PM2.5 measurements, compare the air quality of NYC and Toronto, Canada. If NYC has a higher PM2.5 measurement than Toronto, print \"NYC is worse.\" If Toronto's is higher, print \"Toronto is worse.\"\n",
    "\n",
    "- *Hint: This NYC URL is based on the URL for the current weather of NYC, but is a tiny tiny bit different.*\n",
    "- *Hint: You'll need to add an additional option to the URL to include air quality data*\n",
    "- *Hint: You'll (probably) need multiple variables instead of just using `data` twice*"
   ]
  },
  {
   "cell_type": "code",
   "execution_count": 51,
   "metadata": {},
   "outputs": [],
   "source": [
    "url2 = url_base + \"&q=new%20york&aqi=yes\"\n",
    "response2 = requests.get(url2)\n",
    "NYC = response2.json()\n",
    "\n",
    "url3 = url_base + \"&q=toronto&aqi=yes\"\n",
    "response3 = requests.get(url3)\n",
    "TOR = response3.json()"
   ]
  },
  {
   "cell_type": "code",
   "execution_count": 49,
   "metadata": {},
   "outputs": [
    {
     "name": "stdout",
     "output_type": "stream",
     "text": [
      "NYC is worse\n"
     ]
    }
   ],
   "source": [
    "NYC_aq = NYC[\"current\"][\"air_quality\"][\"pm2_5\"]\n",
    "TOR_aq = TOR[\"current\"][\"air_quality\"][\"pm2_5\"]\n",
    "if NYC_aq > TOR_aq:\n",
    "    print(\"NYC is worse\")\n",
    "else:\n",
    "    print(\"Toronto is worse\")"
   ]
  },
  {
   "attachments": {},
   "cell_type": "markdown",
   "metadata": {},
   "source": [
    "## 2) Print the time zones for both NYC and Toronto.\n",
    "\n",
    "If they have the same time, print \"it is (the time) in both cities.\" If not, print \"It is (nyc time) in NYC and (Toronto time) in Toronto.\"\n",
    "\n",
    "- *Hint: Both cities should have the same local time. If they don't, what's going on? It's a code issue!*\n",
    "- *Hint: f-strings are unwieldy here, I'd just use the comma version of `print`*"
   ]
  },
  {
   "cell_type": "code",
   "execution_count": 56,
   "metadata": {},
   "outputs": [
    {
     "data": {
      "text/plain": [
       "'2023-06-16 15:58'"
      ]
     },
     "execution_count": 56,
     "metadata": {},
     "output_type": "execute_result"
    }
   ],
   "source": [
    "NYC_t = NYC[\"location\"][\"localtime\"]\n",
    "NYC_t"
   ]
  },
  {
   "cell_type": "code",
   "execution_count": 57,
   "metadata": {},
   "outputs": [
    {
     "data": {
      "text/plain": [
       "'2023-06-16 15:58'"
      ]
     },
     "execution_count": 57,
     "metadata": {},
     "output_type": "execute_result"
    }
   ],
   "source": [
    "TOR_t = TOR[\"location\"][\"localtime\"]\n",
    "TOR_t"
   ]
  },
  {
   "cell_type": "code",
   "execution_count": 58,
   "metadata": {},
   "outputs": [
    {
     "name": "stdout",
     "output_type": "stream",
     "text": [
      "It is 2023-06-16 15:58 in both cities.\n"
     ]
    }
   ],
   "source": [
    "if NYC_t == TOR_t:\n",
    "    print(\"It is\",NYC_t,\"in both cities.\")\n",
    "else:\n",
    "    print(\"It is\",NYC_t,\"in NYC and\",TOR_t,\"in Toronto.\")\n"
   ]
  },
  {
   "attachments": {},
   "cell_type": "markdown",
   "metadata": {},
   "source": [
    "## 3) Speaking of Canada, don't they have a London up there?\n",
    "\n",
    "Print out every city that is called \"London,\" along with the region and country it is in. Your output should look like:\n",
    "\n",
    "```\n",
    "There is a London in United Kingdom\n",
    "There is a London in Canada\n",
    "```\n",
    "\n",
    "Do **not** print out `Londonderry`, since it isn't actually a London.\n",
    "\n",
    "- *Hint: You'll need an `if` for that last part*"
   ]
  },
  {
   "cell_type": "code",
   "execution_count": 63,
   "metadata": {},
   "outputs": [
    {
     "data": {
      "text/plain": [
       "[{'id': 2801268,\n",
       "  'name': 'London',\n",
       "  'region': 'City of London, Greater London',\n",
       "  'country': 'United Kingdom',\n",
       "  'lat': 51.52,\n",
       "  'lon': -0.11,\n",
       "  'url': 'london-city-of-london-greater-london-united-kingdom'},\n",
       " {'id': 315398,\n",
       "  'name': 'London',\n",
       "  'region': 'Ontario',\n",
       "  'country': 'Canada',\n",
       "  'lat': 42.98,\n",
       "  'lon': -81.25,\n",
       "  'url': 'london-ontario-canada'},\n",
       " {'id': 2801275,\n",
       "  'name': 'Londonderry',\n",
       "  'region': 'North Yorkshire',\n",
       "  'country': 'United Kingdom',\n",
       "  'lat': 54.28,\n",
       "  'lon': -1.53,\n",
       "  'url': 'londonderry-north-yorkshire-united-kingdom'}]"
      ]
     },
     "execution_count": 63,
     "metadata": {},
     "output_type": "execute_result"
    }
   ],
   "source": [
    "url4 = f\"https://api.weatherapi.com/v1/search.json?key={API_KEY}&q=london\"\n",
    "response4 = requests.get(url4)\n",
    "data4 = response4.json()\n",
    "data4"
   ]
  },
  {
   "cell_type": "code",
   "execution_count": 71,
   "metadata": {},
   "outputs": [
    {
     "name": "stdout",
     "output_type": "stream",
     "text": [
      "There is a London in United Kingdom\n",
      "There is a London in Canada\n"
     ]
    }
   ],
   "source": [
    "for lon in data4:\n",
    "    if lon[\"name\"] == \"London\":\n",
    "        print(\"There is a London in\",lon[\"country\"])"
   ]
  },
  {
   "cell_type": "code",
   "execution_count": null,
   "metadata": {},
   "outputs": [],
   "source": []
  }
 ],
 "metadata": {
  "kernelspec": {
   "display_name": "Python 3 (ipykernel)",
   "language": "python",
   "name": "python3"
  },
  "language_info": {
   "codemirror_mode": {
    "name": "ipython",
    "version": 3
   },
   "file_extension": ".py",
   "mimetype": "text/x-python",
   "name": "python",
   "nbconvert_exporter": "python",
   "pygments_lexer": "ipython3",
   "version": "3.10.11"
  }
 },
 "nbformat": 4,
 "nbformat_minor": 1
}
